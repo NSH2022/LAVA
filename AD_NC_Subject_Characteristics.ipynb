{
 "cells": [
  {
   "cell_type": "code",
   "execution_count": 2,
   "id": "2f00d2d9-df91-444b-af2a-83292b027ea9",
   "metadata": {},
   "outputs": [],
   "source": [
    "import os \n",
    "import shutil\n",
    "import numpy as np\n",
    "import cudf\n",
    "from scipy import stats\n",
    "from scipy.stats import chi2_contingency"
   ]
  },
  {
   "cell_type": "code",
   "execution_count": null,
   "id": "7d35abdd-495c-4132-bcc5-f9b96780ffb2",
   "metadata": {},
   "outputs": [],
   "source": []
  },
  {
   "cell_type": "markdown",
   "id": "88ab4eab-8819-49bb-9f8e-ef86cc37f1d3",
   "metadata": {},
   "source": [
    "# Use data folder to extract all names of images"
   ]
  },
  {
   "cell_type": "code",
   "execution_count": 19,
   "id": "65abd905-13ac-4e77-a89a-1026efaf0f33",
   "metadata": {},
   "outputs": [],
   "source": [
    "AD_images = '/blue/ruogu.fang/charlietran/UKB/code/AutoMorph/AD_RESULTS_61/M2/binary_vessel/resize/'\n",
    "NC_images = '/blue/ruogu.fang/charlietran/UKB/code/AutoMorph/CN_RESULTS_61/M2/binary_vessel/resize/'"
   ]
  },
  {
   "cell_type": "code",
   "execution_count": 20,
   "id": "af62675c-d62f-4b12-a4d1-065e4dc58b54",
   "metadata": {},
   "outputs": [],
   "source": [
    "AD_IDS = [] \n",
    "NC_IDS = [] \n",
    "\n",
    "\n",
    "for file in os.listdir(AD_images):\n",
    "    AD_IDS.append(file[0:7])\n",
    "for file in os.listdir(NC_images):\n",
    "    NC_IDS.append(file[3:7+3])\n",
    "AD_IDS = np.unique(AD_IDS).tolist()\n",
    "NC_IDS = np.unique(NC_IDS).tolist()"
   ]
  },
  {
   "cell_type": "markdown",
   "id": "52d5f731-f076-47bc-aebe-368d16ee48f8",
   "metadata": {},
   "source": [
    "# Load CSV Information of Subjects for Clinical Information"
   ]
  },
  {
   "cell_type": "code",
   "execution_count": 9,
   "id": "987be610-9d16-489b-bc2b-6d1239954441",
   "metadata": {},
   "outputs": [
    {
     "name": "stdout",
     "output_type": "stream",
     "text": [
      "AD Subjects\n",
      "------------------------------------------------------------------------------\n",
      "Townsend Indices\n",
      "Mean of Townsend Indices -1.4250989016393445\n",
      "Standard Deviation of Townsend Indices 3.2984944519280144\n",
      "------------------------------------------------------------------------------\n",
      "Smoking History\n",
      "Number of Smoking Subjects 33 | Percentage 54.09836065573771\n",
      "Number of Non-Smoking Subjects 28 | Percentage 0.45901639344262296\n",
      "------------------------------------------------------------------------------\n",
      "Alcohol Status\n",
      "Number of Alcohol Subjects 60 | Percentage 98.36065573770492\n",
      "Number of Non-Alcohol Subjects 1 | Percentage 1.639344262295082\n",
      "------------------------------------------------------------------------------\n",
      "Obesity-Diabetes Status\n",
      "Number of Obesity Subjects 15 | Percentage 24.59016393442623\n",
      "Number of Non-Obesity Subjects 43 | Percentage 70.49180327868852\n",
      "------------------------------------------------------------------------------\n",
      "Stroke History\n",
      "Number of Stroke Subjects 8 | Percentage 13.114754098360656\n",
      "Number of Non-Stroke Subjects 53 | Percentage 86.88524590163935\n",
      "------------------------------------------------------------------------------\n"
     ]
    }
   ],
   "source": [
    "csv_dir = '/blue/ruogu.fang/charlietran/UKB/csv/ukb669006.csv'\n",
    "\n",
    "df4 = cudf.read_csv(csv_dir)\n",
    "df4 = df4.loc[df4['eid'].isin(AD_IDS)]\n",
    "\n",
    "print('AD Subjects')\n",
    "\n",
    "csv_dir = \"/blue/ruogu.fang/kang.liu/mod_gen/result_with_diabetes.csv\"\n",
    "res = [eval(i) for i in NC_IDS]\n",
    "df4 = cudf.read_csv(csv_dir)\n",
    "df4 = df4.loc[df4['eid'].isin(res)]\n",
    "\n",
    "print('Healthy Subjects')\n",
    "print('------------------------------------------------------------------------------')\n",
    "print('Townsend Indices')\n",
    "print('Mean of Townsend Indices', df4['189-0.0'].astype('float64').mean())\n",
    "print('Standard Deviation of Townsend Indices', df4['189-0.0'].astype('float64').std())\n",
    "print('------------------------------------------------------------------------------')\n",
    "print('Smoking History')\n",
    "print('Number of Smoking Subjects', (df4['20116-0.0'].astype('uint8') != 0).sum(), '| Percentage', 100 * (df4['20116-0.0'].astype('uint8') != 0).sum() / len(df4))\n",
    "print('Number of Non-Smoking Subjects', (df4['20116-0.0'].astype('uint8') == 0).sum(), '| Percentage', (df4['20116-0.0'].astype('uint8') == 0).sum() / len(df4) )\n",
    "print('------------------------------------------------------------------------------')\n",
    "print('Alcohol Status')\n",
    "print('Number of Alcohol Subjects', (df4['20117-0.0'].astype('uint8') != 0).sum(),'| Percentage', 100 * (df4['20117-0.0'].astype('uint8') != 0).sum() / len(df4) )\n",
    "print('Number of Non-Alcohol Subjects', (df4['20117-0.0'].astype('uint8') == 0).sum(), '| Percentage', 100 * (df4['20117-0.0'].astype('uint8') == 0).sum() / len(df4))\n",
    "print('------------------------------------------------------------------------------')\n",
    "print('Obesity-Diabetes Status')\n",
    "print('Number of Obesity Subjects',  ((df4['21001-0.0'].astype('float64') >= 30 ) |   (df4['2443-0.0'].astype('uint8') == 1)).sum(), '| Percentage', 100 *  ((df4['21001-0.0'].astype('float64') >= 30 ) |   (df4['2443-0.0'].astype('uint8') == 1)).sum() / len(df4))\n",
    "print('Number of Non-Obesity Subjects',  (((df4['21001-0.0'].astype('float64') < 30) | (df4['21001-0.0'].astype('float64')).isnull()) &  (df4['2443-0.0'].astype('uint8') == 0)).sum(), \n",
    "      '| Percentage', 100 *  (((df4['21001-0.0'].astype('float64') < 30) | (df4['21001-0.0'].astype('float64')).isnull()) &  (df4['2443-0.0'].astype('uint8') == 0)).sum() / len(df4))\n",
    " \n",
    "print('------------------------------------------------------------------------------')\n",
    "print('Stroke History')\n",
    "print('Number of Stroke Subjects', df4['42006-0.0'].notnull().sum(), '| Percentage', 100 * df4['42006-0.0'].notnull().sum() / len(df4))\n",
    "print('Number of Non-Stroke Subjects', df4['42006-0.0'].isnull().sum(), '| Percentage', 100 * df4['42006-0.0'].isnull().sum() / len(df4))\n",
    "print('------------------------------------------------------------------------------')"
   ]
  },
  {
   "cell_type": "code",
   "execution_count": 11,
   "id": "7568a0b3-aed6-4fbc-ae80-e517f0d4c1bc",
   "metadata": {},
   "outputs": [
    {
     "name": "stdout",
     "output_type": "stream",
     "text": [
      "Healthy Subjects\n",
      "------------------------------------------------------------------------------\n",
      "Townsend Indices\n",
      "Mean of Townsend Indices -1.5457622262500004\n",
      "Standard Deviation of Townsend Indices 2.6137924992287895\n",
      "------------------------------------------------------------------------------\n",
      "Smoking History\n",
      "Number of Smoking Subjects 33 | Percentage 41.25\n",
      "Number of Non-Smoking Subjects 47 | Percentage 0.5875\n",
      "------------------------------------------------------------------------------\n",
      "Alcohol Status\n",
      "Number of Alcohol Subjects 75 | Percentage 93.75\n",
      "Number of Non-Alcohol Subjects 5 | Percentage 6.25\n",
      "------------------------------------------------------------------------------\n",
      "Obesity-Diabetes Status\n",
      "Number of Obesity Subjects 15 | Percentage 18.75\n",
      "Number of Non-Obesity Subjects 65 | Percentage 81.25\n",
      "------------------------------------------------------------------------------\n",
      "Stroke History\n",
      "Number of Stroke Subjects 2 | Percentage 2.5\n",
      "Number of Non-Stroke Subjects 78 | Percentage 97.5\n",
      "------------------------------------------------------------------------------\n"
     ]
    }
   ],
   "source": [
    "\n",
    "csv_dir = '/blue/ruogu.fang/charlietran/UKB/csv/ukb669006.csv'\n",
    "\n",
    "df4 = cudf.read_csv(csv_dir)\n",
    "df4 = df4.loc[df4['eid'].isin(NC_IDS)]\n",
    "\n",
    "print('Healthy Subjects')\n",
    "\n",
    "print('------------------------------------------------------------------------------')\n",
    "print('Townsend Indices')\n",
    "print('Mean of Townsend Indices', df4['189-0.0'].astype('float64').mean())\n",
    "print('Standard Deviation of Townsend Indices', df4['189-0.0'].astype('float64').std())\n",
    "print('------------------------------------------------------------------------------')\n",
    "print('Smoking History')\n",
    "print('Number of Smoking Subjects', (df4['20116-0.0'].astype('uint8') != 0).sum(), '| Percentage', 100 * (df4['20116-0.0'].astype('uint8') != 0).sum() / len(df4))\n",
    "print('Number of Non-Smoking Subjects', (df4['20116-0.0'].astype('uint8') == 0).sum(), '| Percentage', (df4['20116-0.0'].astype('uint8') == 0).sum() / len(df4) )\n",
    "print('------------------------------------------------------------------------------')\n",
    "print('Alcohol Status')\n",
    "print('Number of Alcohol Subjects', (df4['20117-0.0'].astype('uint8') != 0).sum(),'| Percentage', 100 * (df4['20117-0.0'].astype('uint8') != 0).sum() / len(df4) )\n",
    "print('Number of Non-Alcohol Subjects', (df4['20117-0.0'].astype('uint8') == 0).sum(), '| Percentage', 100 * (df4['20117-0.0'].astype('uint8') == 0).sum() / len(df4))\n",
    "print('------------------------------------------------------------------------------')\n",
    "print('Obesity-Diabetes Status')\n",
    "print('Number of Obesity Subjects', (df4['21001-0.0'].astype('float64') > 30).sum(), '| Percentage', 100 * (df4['21001-0.0'].astype('float64') > 30).sum() / len(df4))\n",
    "print('Number of Non-Obesity Subjects', (df4['21001-0.0'].astype('float64') < 30).sum(), '| Percentage', 100 * (df4['21001-0.0'].astype('float64') < 30).sum() / len(df4))\n",
    "print('------------------------------------------------------------------------------')\n",
    "print('Stroke History')\n",
    "print('Number of Stroke Subjects', df4['42006-0.0'].notnull().sum(), '| Percentage', 100 * df4['42006-0.0'].notnull().sum() / len(df4))\n",
    "print('Number of Non-Stroke Subjects', df4['42006-0.0'].isnull().sum(), '| Percentage', 100 * df4['42006-0.0'].isnull().sum() / len(df4))\n",
    "print('------------------------------------------------------------------------------')"
   ]
  },
  {
   "cell_type": "markdown",
   "id": "be8d8164-8273-4add-975b-5219bc78f338",
   "metadata": {},
   "source": [
    "# Load CSV Information for Demographics and Visual Acuity"
   ]
  },
  {
   "cell_type": "code",
   "execution_count": 12,
   "id": "af08bf1d-98a3-43dc-9990-e250fa24fa16",
   "metadata": {},
   "outputs": [
    {
     "name": "stdout",
     "output_type": "stream",
     "text": [
      "Mean Age: 64.54098360655738\n",
      "Stdev Age: 3.617428969548254\n",
      "----------------------------------------------------------------\n",
      "Number of Males 27 | Percentage  0.4426229508196721\n",
      "Number of Females 34 | Percentage  0.5573770491803278\n",
      "----------------------------------------------------------------\n",
      "Number of White Ethnicity 56  | Percentage  91.80327868852459\n",
      "Number of Non-White Ethnicity 5.0  | Percentage  8.19672131147541\n",
      "----------------------------------------------------------------\n",
      "Mean Visual Acuity 0.10833333333333332\n",
      "Std Visual Acuity 0.2004123108484672\n"
     ]
    }
   ],
   "source": [
    "import cudf\n",
    "\n",
    "csv_dir = '/blue/ruogu.fang/charlietran/UKB/csv/ukb52184.csv'\n",
    "df4 = cudf.read_csv(csv_dir)\n",
    "df4 = df4.loc[df4['eid'].isin(AD_IDS)]\n",
    "\n",
    "\n",
    "A = df4[['eid', '21003-0.0', '31-0.0', '21000-0.0', '5206-0.0', '5199-0.0',]]\n",
    "A['sum_total'] = (A['5206-0.0'].astype('float64') + A['5199-0.0'].astype('float64'))/2\n",
    "\n",
    "print('Mean Age:', A['21003-0.0'].astype('float64').mean())\n",
    "print('Stdev Age:', A['21003-0.0'].astype('float64').std())\n",
    "print('----------------------------------------------------------------')\n",
    "print('Number of Males', (A['31-0.0'].astype('float64') == 1).sum(), '| Percentage ', (A['31-0.0'].astype('float64') == 1).sum() / len(df4))\n",
    "print('Number of Females', (A['31-0.0'].astype('float64') == 0).sum(), '| Percentage ', (A['31-0.0'].astype('float64') == 0).sum() / len(df4))\n",
    "print('----------------------------------------------------------------')\n",
    "print('Number of White Ethnicity',  (A['21000-0.0'].astype('int32') == 1001).sum() + (A['21000-0.0'].astype('int32') == 1002).sum() + (A['21000-0.0'].astype('int32') == 1).sum(),\n",
    "     ' | Percentage ', 100* ((A['21000-0.0'].astype('int32') == 1001).sum() + (A['21000-0.0'].astype('int32') == 1002).sum() + (A['21000-0.0'].astype('int32') == 1).sum()) / len(df4) \n",
    "     )\n",
    "print('Number of Non-White Ethnicity',  len(df4) - ((A['21000-0.0'].astype('int32') == 1001).sum() + (A['21000-0.0'].astype('int32') == 1002).sum() + (A['21000-0.0'].astype('int32') == 1).sum()),\n",
    "     ' | Percentage ', 100* (len(df4) - ((A['21000-0.0'].astype('int32') == 1001).sum() + (A['21000-0.0'].astype('int32') == 1002).sum() + (A['21000-0.0'].astype('int32') == 1).sum())) / len(df4)\n",
    "     )\n",
    "print('----------------------------------------------------------------')\n",
    "print('Mean Visual Acuity',  A['sum_total'].mean())\n",
    "print('Std Visual Acuity',  A['sum_total'].std())"
   ]
  },
  {
   "cell_type": "code",
   "execution_count": 20,
   "id": "94d7337e-c75b-4098-912f-0ea08d39809b",
   "metadata": {},
   "outputs": [
    {
     "name": "stdout",
     "output_type": "stream",
     "text": [
      "Mean Age: 63.925\n",
      "Stdev Age: 4.096231673630138\n",
      "----------------------------------------------------------------\n",
      "Number of Males 36 | Percentage  0.45\n",
      "Number of Females 44 | Percentage  0.55\n",
      "----------------------------------------------------------------\n",
      "Number of White Ethnicity 78  | Percentage  97.5\n",
      "Number of Non-White Ethnicity 2.0  | Percentage  2.5\n",
      "----------------------------------------------------------------\n",
      "Mean Visual Acuity 0.05753424657534246\n",
      "Std Visual Acuity 0.20270244216802813\n"
     ]
    }
   ],
   "source": [
    "import cudf\n",
    "\n",
    "\n",
    "csv_dir = '/blue/ruogu.fang/charlietran/UKB/csv/ukb52184.csv'\n",
    "df4 = cudf.read_csv(csv_dir)\n",
    "df4 = df4.loc[df4['eid'].isin(NC_IDS)]\n",
    "\n",
    "\n",
    "A = df4[['eid', '21003-0.0', '31-0.0', '21000-0.0', '5206-0.0', '5199-0.0',]]\n",
    "A['sum_total'] = (A['5206-0.0'].astype('float64') + A['5199-0.0'].astype('float64'))/2\n",
    "\n",
    "print('Mean Age:', A['21003-0.0'].astype('float64').mean())\n",
    "print('Stdev Age:', A['21003-0.0'].astype('float64').std())\n",
    "print('----------------------------------------------------------------')\n",
    "print('Number of Males', (A['31-0.0'].astype('float64') == 1).sum(), '| Percentage ', (A['31-0.0'].astype('float64') == 1).sum() / len(df4))\n",
    "print('Number of Females', (A['31-0.0'].astype('float64') == 0).sum(), '| Percentage ', (A['31-0.0'].astype('float64') == 0).sum() / len(df4))\n",
    "print('----------------------------------------------------------------')\n",
    "print('Number of White Ethnicity',  (A['21000-0.0'].astype('int32') == 1001).sum() + (A['21000-0.0'].astype('int32') == 1002).sum() + (A['21000-0.0'].astype('int32') == 1).sum(),\n",
    "     ' | Percentage ', 100* ((A['21000-0.0'].astype('int32') == 1001).sum() + (A['21000-0.0'].astype('int32') == 1002).sum() + (A['21000-0.0'].astype('int32') == 1).sum()) / len(df4) \n",
    "     )\n",
    "print('Number of Non-White Ethnicity',  len(df4) - ((A['21000-0.0'].astype('int32') == 1001).sum() + (A['21000-0.0'].astype('int32') == 1002).sum() + (A['21000-0.0'].astype('int32') == 1).sum()),\n",
    "     ' | Percentage ', 100* (len(df4) - ((A['21000-0.0'].astype('int32') == 1001).sum() + (A['21000-0.0'].astype('int32') == 1002).sum() + (A['21000-0.0'].astype('int32') == 1).sum())) / len(df4)\n",
    "     )\n",
    "print('----------------------------------------------------------------')\n",
    "print('Mean Visual Acuity',  A['sum_total'].mean())\n",
    "print('Std Visual Acuity',  A['sum_total'].std())"
   ]
  },
  {
   "cell_type": "markdown",
   "id": "162dfbb0-957a-4bf3-9b8d-e01d15f27838",
   "metadata": {},
   "source": [
    "# Load CSV Information for Eye Problem Diagnoses"
   ]
  },
  {
   "cell_type": "code",
   "execution_count": 22,
   "id": "f04b9de4-6954-4b73-8804-c80baffe7b3e",
   "metadata": {},
   "outputs": [
    {
     "name": "stdout",
     "output_type": "stream",
     "text": [
      "Number of Vision Problem Subjects 10.0  | Percentage  16.39344262295082\n",
      "Number of Healthy Vision Subjects 51  | Percentage  83.60655737704919\n"
     ]
    }
   ],
   "source": [
    "csv_dir = '/blue/ruogu.fang/charlietran/UKB/csv/ukb52152.csv'\n",
    "df4 = cudf.read_csv(csv_dir)\n",
    "df4 = df4.loc[df4['eid'].isin(AD_IDS)]\n",
    "\n",
    "A = df4[['6148-0.0']]\n",
    "\n",
    "# healthy accounts is\n",
    "\n",
    "print('Number of Vision Problem Subjects', (len(df4) - (A['6148-0.0'].astype('float64').isin([-3, -7, -1]).sum() \n",
    "                                            + A['6148-0.0'].astype('float64').isnull().sum())),\n",
    "     ' | Percentage ', 100 * (len(df4) - (A['6148-0.0'].astype('float64').isin([-3, -7, -1]).sum() \n",
    "                                            + A['6148-0.0'].astype('float64').isnull().sum())) / len(df4))\n",
    "\n",
    "print('Number of Healthy Vision Subjects', (A['6148-0.0'].astype('float64').isin([-3, -7, -1]).sum() \n",
    "                                            + A['6148-0.0'].astype('float64').isnull().sum()),\n",
    "     ' | Percentage ', 100 * (A['6148-0.0'].astype('float64').isin([-3, -7, -1]).sum() \n",
    "                                            + A['6148-0.0'].astype('float64').isnull().sum()) / len(df4))"
   ]
  },
  {
   "cell_type": "code",
   "execution_count": 23,
   "id": "0939b5e8-a524-401e-8af4-6350f67ea0d0",
   "metadata": {},
   "outputs": [
    {
     "name": "stdout",
     "output_type": "stream",
     "text": [
      "Number of Vision Problem Subjects 13.0  | Percentage  16.25\n",
      "Number of Healthy Vision Subjects 67  | Percentage  83.75\n"
     ]
    }
   ],
   "source": [
    "csv_dir = '/blue/ruogu.fang/charlietran/UKB/csv/ukb52152.csv'\n",
    "df4 = cudf.read_csv(csv_dir)\n",
    "df4 = df4.loc[df4['eid'].isin(NC_IDS)]\n",
    "\n",
    "A = df4[['6148-0.0']]\n",
    "\n",
    "# healthy accounts is\n",
    "\n",
    "print('Number of Vision Problem Subjects', (len(df4) - (A['6148-0.0'].astype('float64').isin([-3, -7, -1]).sum() \n",
    "                                            + A['6148-0.0'].astype('float64').isnull().sum())),\n",
    "     ' | Percentage ', 100 * (len(df4) - (A['6148-0.0'].astype('float64').isin([-3, -7, -1]).sum() \n",
    "                                            + A['6148-0.0'].astype('float64').isnull().sum())) / len(df4))\n",
    "\n",
    "print('Number of Healthy Vision Subjects', (A['6148-0.0'].astype('float64').isin([-3, -7, -1]).sum() \n",
    "                                            + A['6148-0.0'].astype('float64').isnull().sum()),\n",
    "     ' | Percentage ', 100 * (A['6148-0.0'].astype('float64').isin([-3, -7, -1]).sum() \n",
    "                                            + A['6148-0.0'].astype('float64').isnull().sum()) / len(df4))"
   ]
  },
  {
   "cell_type": "markdown",
   "id": "4c2c82a7-5937-4237-91d5-cfa7b94b1ada",
   "metadata": {},
   "source": [
    "# Run t-test metrics "
   ]
  },
  {
   "cell_type": "code",
   "execution_count": 33,
   "id": "b7f98d2c-2fb3-4c5e-8311-4424a6993e9e",
   "metadata": {},
   "outputs": [
    {
     "data": {
      "text/plain": [
       "0.8088634768047538"
      ]
     },
     "execution_count": 33,
     "metadata": {},
     "output_type": "execute_result"
    }
   ],
   "source": [
    "\n",
    "from scipy.stats import chi2_contingency\n",
    "csv_dir = '/blue/ruogu.fang/charlietran/UKB/csv/ukb669006.csv'\n",
    "\n",
    "df4 = cudf.read_csv(csv_dir)\n",
    "df4 = df4.loc[df4['eid'].isin(AD_IDS)]\n",
    "\n",
    "csv_dir = '/blue/ruogu.fang/charlietran/UKB/csv/ukb669006.csv'\n",
    "\n",
    "df5 = cudf.read_csv(csv_dir)\n",
    "df5 = df5.loc[df5['eid'].isin(NC_IDS)]\n",
    "\n",
    "A = df4['189-0.0']\n",
    "B = df5['189-0.0']\n",
    "\n",
    "\n",
    "C = A.to_array().astype('float64')\n",
    "D = B.to_array().astype('float64')\n",
    "\n",
    "_, p = stats.ttest_ind(C,D)\n",
    "p\n",
    "\n"
   ]
  },
  {
   "cell_type": "code",
   "execution_count": 34,
   "id": "bd7156d2-a630-40a4-bfce-6b4f109948f8",
   "metadata": {},
   "outputs": [
    {
     "data": {
      "text/plain": [
       "0.16312057673392688"
      ]
     },
     "execution_count": 34,
     "metadata": {},
     "output_type": "execute_result"
    }
   ],
   "source": [
    "csv_dir = '/blue/ruogu.fang/charlietran/UKB/csv/ukb52184.csv'\n",
    "\n",
    "df4 = cudf.read_csv(csv_dir)\n",
    "df4 = df4.loc[df4['eid'].isin(AD_IDS)]\n",
    "\n",
    "\n",
    "\n",
    "\n",
    "df5 = cudf.read_csv(csv_dir)\n",
    "df5 = df5.loc[df5['eid'].isin(NC_IDS)]\n",
    "\n",
    "\n",
    "df4['sum_total'] = (df4['5206-0.0'].astype('float64') + df4['5199-0.0'].astype('float64')) /2\n",
    "df5['sum_total'] = (df5['5206-0.0'].astype('float64') + df5['5199-0.0'].astype('float64')) / 2\n",
    "\n",
    "A = df4['sum_total']\n",
    "B = df5['sum_total']\n",
    "\n",
    "\n",
    "C = A.to_array().astype('float64')\n",
    "D = B.to_array().astype('float64')\n",
    "\n",
    "_, p = stats.ttest_ind(C,D)\n",
    "p\n",
    "\n"
   ]
  },
  {
   "cell_type": "code",
   "execution_count": 35,
   "id": "4662a206-b78d-4333-a1ed-00690ff95b02",
   "metadata": {},
   "outputs": [
    {
     "data": {
      "text/plain": [
       "0.3540044365761441"
      ]
     },
     "execution_count": 35,
     "metadata": {},
     "output_type": "execute_result"
    }
   ],
   "source": [
    "csv_dir = '/blue/ruogu.fang/charlietran/UKB/csv/ukb52184.csv'\n",
    "df4 = cudf.read_csv(csv_dir)\n",
    "df4 = df4.loc[df4['eid'].isin(AD_IDS)]\n",
    "csv_dir = '/blue/ruogu.fang/charlietran/UKB/csv/ukb52184.csv'\n",
    "\n",
    "df5 = cudf.read_csv(csv_dir)\n",
    "df5 = df5.loc[df5['eid'].isin(NC_IDS)]\n",
    "#df4['sum_total'] = df4['5206-0.0'].astype('float64') + df4['5199-0.0'].astype('float64')\n",
    "#df5['sum_total'] = df5['5206-0.0'].astype('float64') + df5['5199-0.0'].astype('float64')\n",
    "\n",
    "\n",
    "\n",
    "A = df4['21003-0.0']\n",
    "B = df5['21003-0.0']\n",
    "\n",
    "\n",
    "C = A.to_array().astype('float64')\n",
    "D = B.to_array().astype('float64')\n",
    "\n",
    "_, p = stats.ttest_ind(C,D)\n",
    "p\n",
    "b\n"
   ]
  },
  {
   "cell_type": "markdown",
   "id": "d1a0bb86-42f8-4fba-98d4-a9cc78c3705a",
   "metadata": {},
   "source": [
    "# Run Chi-Square Test"
   ]
  },
  {
   "cell_type": "code",
   "execution_count": 156,
   "id": "3678f3a3-2701-4bea-881f-b51ccfb8e0e7",
   "metadata": {},
   "outputs": [
    {
     "name": "stdout",
     "output_type": "stream",
     "text": [
      "pvalue 0.12981485202458712\n"
     ]
    },
    {
     "data": {
      "text/plain": [
       "array([[28.55319149, 37.44680851],\n",
       "       [32.44680851, 42.55319149]])"
      ]
     },
     "execution_count": 156,
     "metadata": {},
     "output_type": "execute_result"
    }
   ],
   "source": [
    "yes = np.array([33, 33])\n",
    "no = np.array([28, 47])\n",
    "\n",
    "obs = obs = np.vstack([yes, no])\n",
    "chi, p, _, expected = chi2_contingency(obs, correction = False)\n",
    "print('pvalue', p)\n",
    "expected\n",
    "#_, p _, _ = chi2_contingency(true_obs, false_obs)\n",
    "#p"
   ]
  },
  {
   "cell_type": "code",
   "execution_count": null,
   "id": "4332494d-ecb0-4933-b52c-8114c6e9f557",
   "metadata": {},
   "outputs": [],
   "source": []
  },
  {
   "cell_type": "code",
   "execution_count": 153,
   "id": "266399c6-01fa-4596-a180-c47a34695717",
   "metadata": {},
   "outputs": [
    {
     "name": "stdout",
     "output_type": "stream",
     "text": [
      "Healthy Subjects\n",
      "------------------------------------------------------------------------------\n",
      "Townsend Indices\n",
      "Mean of Townsend Indices -1.54576222625\n",
      "Standard Deviation of Townsend Indices 2.61379249922879\n",
      "------------------------------------------------------------------------------\n",
      "Smoking History\n",
      "Number of Smoking Subjects 32 | Percentage 40.0\n",
      "Number of Non-Smoking Subjects 48 | Percentage 0.6\n",
      "------------------------------------------------------------------------------\n",
      "Alcohol Status\n",
      "Number of Alcohol Subjects 74 | Percentage 92.5\n",
      "Number of Non-Alcohol Subjects 6 | Percentage 7.5\n",
      "------------------------------------------------------------------------------\n",
      "Obesity-Diabetes Status\n",
      "Number of Obesity Subjects 16 | Percentage 20.0\n",
      "Number of Non-Obesity Subjects 64 | Percentage 80.0\n",
      "------------------------------------------------------------------------------\n",
      "Stroke History\n",
      "Number of Stroke Subjects 2 | Percentage 2.5\n",
      "Number of Non-Stroke Subjects 78 | Percentage 97.5\n",
      "------------------------------------------------------------------------------\n"
     ]
    }
   ],
   "source": [
    "\n",
    "\n",
    "## corrected diabetes#\n",
    "\n",
    "\n",
    "csv_dir = \"/blue/ruogu.fang/kang.liu/mod_gen/result_with_diabetes.csv\"\n",
    "res = [eval(i) for i in NC_IDS]\n",
    "df4 = cudf.read_csv(csv_dir)\n",
    "df4 = df4.loc[df4['eid'].isin(res)]\n",
    "\n",
    "print('Healthy Subjects')\n",
    "print('------------------------------------------------------------------------------')\n",
    "print('Townsend Indices')\n",
    "print('Mean of Townsend Indices', df4['189-0.0'].astype('float64').mean())\n",
    "print('Standard Deviation of Townsend Indices', df4['189-0.0'].astype('float64').std())\n",
    "print('------------------------------------------------------------------------------')\n",
    "print('Smoking History')\n",
    "print('Number of Smoking Subjects', (df4['20116-0.0'].astype('uint8') != 0).sum(), '| Percentage', 100 * (df4['20116-0.0'].astype('uint8') != 0).sum() / len(df4))\n",
    "print('Number of Non-Smoking Subjects', (df4['20116-0.0'].astype('uint8') == 0).sum(), '| Percentage', (df4['20116-0.0'].astype('uint8') == 0).sum() / len(df4) )\n",
    "print('------------------------------------------------------------------------------')\n",
    "print('Alcohol Status')\n",
    "print('Number of Alcohol Subjects', (df4['20117-0.0'].astype('uint8') != 0).sum(),'| Percentage', 100 * (df4['20117-0.0'].astype('uint8') != 0).sum() / len(df4) )\n",
    "print('Number of Non-Alcohol Subjects', (df4['20117-0.0'].astype('uint8') == 0).sum(), '| Percentage', 100 * (df4['20117-0.0'].astype('uint8') == 0).sum() / len(df4))\n",
    "print('------------------------------------------------------------------------------')\n",
    "print('Obesity-Diabetes Status')\n",
    "print('Number of Obesity Subjects',  ((df4['21001-0.0'].astype('float64') >= 30 ) |   (df4['2443-0.0'].astype('uint8') == 1)).sum(), '| Percentage', 100 *  ((df4['21001-0.0'].astype('float64') >= 30 ) |   (df4['2443-0.0'].astype('uint8') == 1)).sum() / len(df4))\n",
    "print('Number of Non-Obesity Subjects',  (((df4['21001-0.0'].astype('float64') < 30) | (df4['21001-0.0'].astype('float64')).isnull()) &  (df4['2443-0.0'].astype('uint8') == 0)).sum(), \n",
    "      '| Percentage', 100 *  (((df4['21001-0.0'].astype('float64') < 30) | (df4['21001-0.0'].astype('float64')).isnull()) &  (df4['2443-0.0'].astype('uint8') == 0)).sum() / len(df4))\n",
    " \n",
    "print('------------------------------------------------------------------------------')\n",
    "print('Stroke History')\n",
    "print('Number of Stroke Subjects', df4['42006-0.0'].notnull().sum(), '| Percentage', 100 * df4['42006-0.0'].notnull().sum() / len(df4))\n",
    "print('Number of Non-Stroke Subjects', df4['42006-0.0'].isnull().sum(), '| Percentage', 100 * df4['42006-0.0'].isnull().sum() / len(df4))\n",
    "print('------------------------------------------------------------------------------')\n"
   ]
  },
  {
   "cell_type": "code",
   "execution_count": 144,
   "id": "b6f7b232-5c41-4b25-9347-fd0802a6eb34",
   "metadata": {},
   "outputs": [
    {
     "data": {
      "text/plain": [
       "65"
      ]
     },
     "execution_count": 144,
     "metadata": {},
     "output_type": "execute_result"
    }
   ],
   "source": [
    "((df4['21001-0.0'].astype('float64') < 30) | (df4['21001-0.0'].astype('float64')).isnull() &  (df4['2443-0.0'].astype('uint8') == 0)).sum()"
   ]
  },
  {
   "cell_type": "code",
   "execution_count": 143,
   "id": "2e68940b-43a0-4a8d-9890-2f6e8e446f02",
   "metadata": {},
   "outputs": [
    {
     "data": {
      "text/plain": [
       "80"
      ]
     },
     "execution_count": 143,
     "metadata": {},
     "output_type": "execute_result"
    }
   ],
   "source": [
    "len(NC_IDS)"
   ]
  },
  {
   "cell_type": "code",
   "execution_count": 142,
   "id": "20729557-5017-4915-9f4d-41c4c890db1f",
   "metadata": {},
   "outputs": [
    {
     "data": {
      "text/plain": [
       "80"
      ]
     },
     "execution_count": 142,
     "metadata": {},
     "output_type": "execute_result"
    }
   ],
   "source": [
    "len(df4)"
   ]
  },
  {
   "cell_type": "code",
   "execution_count": null,
   "id": "173dcb2a-2380-4dca-a43a-d6b27a84c1d8",
   "metadata": {},
   "outputs": [],
   "source": []
  },
  {
   "cell_type": "code",
   "execution_count": 79,
   "id": "018bd6a8-8afc-4345-92f7-6a0be34894fd",
   "metadata": {},
   "outputs": [
    {
     "name": "stdout",
     "output_type": "stream",
     "text": [
      "Healthy Subjects\n",
      "------------------------------------------------------------------------------\n",
      "Townsend Indices\n",
      "Mean of Townsend Indices -1.54576222625\n",
      "Standard Deviation of Townsend Indices 2.61379249922879\n",
      "------------------------------------------------------------------------------\n",
      "Smoking History\n",
      "Number of Smoking Subjects 32 | Percentage 40.0\n",
      "Number of Non-Smoking Subjects 48 | Percentage 0.6\n",
      "------------------------------------------------------------------------------\n",
      "Alcohol Status\n",
      "Number of Alcohol Subjects 74 | Percentage 92.5\n",
      "Number of Non-Alcohol Subjects 6 | Percentage 7.5\n",
      "------------------------------------------------------------------------------\n",
      "Obesity Status\n",
      "Mean of Townsend Indices 26.47213875\n",
      "Standard Deviation of Townsend Indices 4.920858846735209\n",
      "------------------------------------------------------------------------------\n",
      "Stroke History\n",
      "Number of Stroke Subjects 2 | Percentage 2.5\n",
      "Number of Non-Stroke Subjects 78 | Percentage 97.5\n",
      "------------------------------------------------------------------------------\n",
      "Diabetes \n",
      "Number of Diabetes Subjects 4 | Percentage 5.0\n",
      "Number of Non-Diabetes Subjects 76 | Percentage 95.0\n",
      "------------------------------------------------------------------------------\n"
     ]
    }
   ],
   "source": [
    "\n",
    "csv_dir = \"/blue/ruogu.fang/kang.liu/mod_gen/result_with_diabetes.csv\"\n",
    "res = [eval(i) for i in NC_IDS]\n",
    "df4 = cudf.read_csv(csv_dir)\n",
    "df4 = df4.loc[df4['eid'].isin(res)]\n",
    "\n",
    "print('Healthy Subjects')\n",
    "\n",
    "print('------------------------------------------------------------------------------')\n",
    "print('Townsend Indices')\n",
    "print('Mean of Townsend Indices', df4['189-0.0'].astype('float64').mean())\n",
    "print('Standard Deviation of Townsend Indices', df4['189-0.0'].astype('float64').std())\n",
    "print('------------------------------------------------------------------------------')\n",
    "print('Smoking History')\n",
    "print('Number of Smoking Subjects', (df4['20116-0.0'].astype('uint8') != 0).sum(), '| Percentage', 100 * (df4['20116-0.0'].astype('uint8') != 0).sum() / len(df4))\n",
    "print('Number of Non-Smoking Subjects', (df4['20116-0.0'].astype('uint8') == 0).sum(), '| Percentage', (df4['20116-0.0'].astype('uint8') == 0).sum() / len(df4) )\n",
    "print('------------------------------------------------------------------------------')\n",
    "print('Alcohol Status')\n",
    "print('Number of Alcohol Subjects', (df4['20117-0.0'].astype('uint8') != 0).sum(),'| Percentage', 100 * (df4['20117-0.0'].astype('uint8') != 0).sum() / len(df4) )\n",
    "print('Number of Non-Alcohol Subjects', (df4['20117-0.0'].astype('uint8') == 0).sum(), '| Percentage', 100 * (df4['20117-0.0'].astype('uint8') == 0).sum() / len(df4))\n",
    "print('------------------------------------------------------------------------------')\n",
    "print('Obesity Status')\n",
    "print('Mean of Townsend Indices', df4['21001-0.0'].astype('float64').mean())\n",
    "print('Standard Deviation of Townsend Indices', df4['21001-0.0'].astype('float64').std())\n",
    "print('------------------------------------------------------------------------------')\n",
    "print('Stroke History')\n",
    "print('Number of Stroke Subjects', df4['42006-0.0'].notnull().sum() , '| Percentage', 100 * df4['42006-0.0'].notnull().sum() / len(df4))\n",
    "print('Number of Non-Stroke Subjects', df4['42006-0.0'].isnull().sum(), '| Percentage', 100 * df4['42006-0.0'].isnull().sum() / len(df4))\n",
    "print('------------------------------------------------------------------------------')\n",
    "print('Diabetes ')\n",
    "print('Number of Diabetes Subjects', (df4['2443-0.0'].astype('uint8') == 1).sum() , '| Percentage', 100 * (df4['2443-0.0'].astype('uint8') == 1).sum() / len(df4))\n",
    "print('Number of Non-Diabetes Subjects', (df4['2443-0.0'].astype('uint8') == 0).sum(), '| Percentage', 100 * (df4['2443-0.0'].astype('uint8') == 0).sum() / len(df4))\n",
    "print('------------------------------------------------------------------------------')\n",
    "\n",
    "#print('Number of Non-Medication Subjects', (df4['20466-0.0'].astype('uint8') == 0).sum())\n",
    "#df4 = df4.loc[df4['eid'].isin(subject_ids)]\n",
    "#print('Mean Townsend', df4['189-0.0'].mean)\n",
    "\n",
    "#print\n",
    "#print('-----------------------------------------------')\n",
    "#print('SMOKING STATUS', df4['20116-0.0'].value_counts())\n",
    "#print('-----------------------------------------------')\n"
   ]
  },
  {
   "cell_type": "code",
   "execution_count": null,
   "id": "15416d54-c409-489d-ba2b-1dac6a6f7de4",
   "metadata": {},
   "outputs": [],
   "source": []
  },
  {
   "cell_type": "code",
   "execution_count": 75,
   "id": "5fa5f3d3-b1cd-4353-912e-bf523d00daf2",
   "metadata": {},
   "outputs": [],
   "source": [
    "df4.to_csv('/blue/ruogu.fang/charlietran/UKB/code/Automated_Data_Collection/Hello.csv')"
   ]
  },
  {
   "cell_type": "code",
   "execution_count": 118,
   "id": "e079ad22-02e8-4021-87c4-19092fae0e35",
   "metadata": {},
   "outputs": [
    {
     "name": "stdout",
     "output_type": "stream",
     "text": [
      "18\n"
     ]
    }
   ],
   "source": [
    "csv_dir = \"/blue/ruogu.fang/kang.liu/mod_gen/result_with_diabetes.csv\"\n",
    "res = [eval(i) for i in AD_IDS]\n",
    "df4 = cudf.read_csv(csv_dir)\n",
    "df4 = df4.loc[df4['eid'].isin(res)]\n",
    "\n",
    "\n",
    "\n",
    "csv_dir = \"/blue/ruogu.fang/kang.liu/mod_gen/result_with_diabetes.csv\"\n",
    "res = [eval(i) for i in NC_IDS]\n",
    "df4 = cudf.read_csv(csv_dir)\n",
    "df4 = df4.loc[df4['eid'].isin(res)]\n",
    "\n",
    "#print('Obesity-Diabetes Status')\n",
    "#print('Number of Obesity Subjects', (df4['21001-0.0'].astype('float64') > 30 ))\n",
    "#print('Number of Obesity Subjects', (df4['2443-0.0'].astype('uint8') == 1))\n",
    "\n",
    "print(   ((df4['21001-0.0'].astype('float64') > 30 ) |   (df4['2443-0.0'].astype('uint8') == 1)).sum())"
   ]
  },
  {
   "cell_type": "code",
   "execution_count": 60,
   "id": "a7debc90-2d98-4f56-a3b1-d6626dde2305",
   "metadata": {},
   "outputs": [],
   "source": [
    "A = cudf.read_csv(\"/blue/ruogu.fang/kang.liu/mod_gen/result_with_diabetes.csv\")"
   ]
  },
  {
   "cell_type": "code",
   "execution_count": 64,
   "id": "5de7dadb-f6d5-43ad-91f2-ccbdfa4b01de",
   "metadata": {},
   "outputs": [
    {
     "data": {
      "text/html": [
       "<div>\n",
       "<style scoped>\n",
       "    .dataframe tbody tr th:only-of-type {\n",
       "        vertical-align: middle;\n",
       "    }\n",
       "\n",
       "    .dataframe tbody tr th {\n",
       "        vertical-align: top;\n",
       "    }\n",
       "\n",
       "    .dataframe thead th {\n",
       "        text-align: right;\n",
       "    }\n",
       "</style>\n",
       "<table border=\"1\" class=\"dataframe\">\n",
       "  <thead>\n",
       "    <tr style=\"text-align: right;\">\n",
       "      <th></th>\n",
       "      <th>Unnamed: 0</th>\n",
       "      <th>eid</th>\n",
       "      <th>189-0.0</th>\n",
       "      <th>4056-0.0</th>\n",
       "      <th>4056-1.0</th>\n",
       "      <th>4056-2.0</th>\n",
       "      <th>4056-3.0</th>\n",
       "      <th>20116-0.0</th>\n",
       "      <th>20116-1.0</th>\n",
       "      <th>20116-2.0</th>\n",
       "      <th>...</th>\n",
       "      <th>21001-3.0</th>\n",
       "      <th>21002-0.0</th>\n",
       "      <th>21002-1.0</th>\n",
       "      <th>21002-2.0</th>\n",
       "      <th>21002-3.0</th>\n",
       "      <th>42006-0.0</th>\n",
       "      <th>2443-0.0</th>\n",
       "      <th>2443-1.0</th>\n",
       "      <th>2443-2.0</th>\n",
       "      <th>2443-3.0</th>\n",
       "    </tr>\n",
       "  </thead>\n",
       "  <tbody>\n",
       "    <tr>\n",
       "      <th>0</th>\n",
       "      <td>0</td>\n",
       "      <td>1000014</td>\n",
       "      <td>-3.23187</td>\n",
       "      <td>&lt;NA&gt;</td>\n",
       "      <td>&lt;NA&gt;</td>\n",
       "      <td>&lt;NA&gt;</td>\n",
       "      <td>&lt;NA&gt;</td>\n",
       "      <td>0.0</td>\n",
       "      <td>&lt;NA&gt;</td>\n",
       "      <td>&lt;NA&gt;</td>\n",
       "      <td>...</td>\n",
       "      <td>&lt;NA&gt;</td>\n",
       "      <td>74.0</td>\n",
       "      <td>&lt;NA&gt;</td>\n",
       "      <td>&lt;NA&gt;</td>\n",
       "      <td>&lt;NA&gt;</td>\n",
       "      <td>&lt;NA&gt;</td>\n",
       "      <td>0.0</td>\n",
       "      <td>&lt;NA&gt;</td>\n",
       "      <td>&lt;NA&gt;</td>\n",
       "      <td>&lt;NA&gt;</td>\n",
       "    </tr>\n",
       "  </tbody>\n",
       "</table>\n",
       "<p>1 rows × 29 columns</p>\n",
       "</div>"
      ],
      "text/plain": [
       "   Unnamed: 0      eid  189-0.0 4056-0.0 4056-1.0 4056-2.0 4056-3.0  \\\n",
       "0           0  1000014 -3.23187     <NA>     <NA>     <NA>     <NA>   \n",
       "\n",
       "   20116-0.0 20116-1.0 20116-2.0  ... 21001-3.0 21002-0.0  21002-1.0  \\\n",
       "0        0.0      <NA>      <NA>  ...      <NA>      74.0       <NA>   \n",
       "\n",
       "  21002-2.0 21002-3.0 42006-0.0 2443-0.0  2443-1.0 2443-2.0 2443-3.0  \n",
       "0      <NA>      <NA>      <NA>      0.0      <NA>     <NA>     <NA>  \n",
       "\n",
       "[1 rows x 29 columns]"
      ]
     },
     "execution_count": 64,
     "metadata": {},
     "output_type": "execute_result"
    }
   ],
   "source": [
    "csv_dir = '/blue/ruogu.fang/charlietran/UKB/csv/ukb52184.csv'\n",
    "df4 = cudf.read_csv(csv_dir)\n",
    "df4 = df4.loc[df4['eid'].isin(AD_IDS)]\n",
    "csv_dir = '/blue/ruogu.fang/charlietran/UKB/csv/ukb52184.csv'\n",
    "\n",
    "df5 = cudf.read_csv(csv_dir)\n",
    "df5 = df5.loc[df5['eid'].isin(NC_IDS)]\n",
    "#df4['sum_total'] = df4['5206-0.0'].astype('float64') + df4['5199-0.0'].astype('float64')\n",
    "#df5['sum_total'] = df5['5206-0.0'].astype('float64') + df5['5199-0.0'].astype('float64')\n",
    "\n",
    "\n",
    "\n",
    "A = df4['21003-0.0']\n",
    "B = df5['21003-0.0']\n",
    "\n",
    "\n",
    "C = A.to_array().astype('float64')\n",
    "D = B.to_array().astype('float64')\n",
    "\n",
    "_, p = stats.ttest_ind(C,D)\n",
    "p\n",
    "b\n"
   ]
  }
 ],
 "metadata": {
  "kernelspec": {
   "display_name": "RAPIDSai-21.10",
   "language": "python",
   "name": "rapidsai-21.10"
  },
  "language_info": {
   "codemirror_mode": {
    "name": "ipython",
    "version": 3
   },
   "file_extension": ".py",
   "mimetype": "text/x-python",
   "name": "python",
   "nbconvert_exporter": "python",
   "pygments_lexer": "ipython3",
   "version": "3.8.12"
  }
 },
 "nbformat": 4,
 "nbformat_minor": 5
}
